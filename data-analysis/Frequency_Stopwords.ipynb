{
  "nbformat": 4,
  "nbformat_minor": 0,
  "metadata": {
    "colab": {
      "name": "Frequency_Stopwords.ipynb",
      "provenance": []
    },
    "kernelspec": {
      "name": "python3",
      "display_name": "Python 3"
    },
    "accelerator": "GPU"
  },
  "cells": [
    {
      "cell_type": "markdown",
      "metadata": {
        "id": "iSUolCgLTwwY",
        "colab_type": "text"
      },
      "source": [
        "# Installing and importing packages"
      ]
    },
    {
      "cell_type": "code",
      "metadata": {
        "id": "SVvMudt7Teus",
        "colab_type": "code",
        "colab": {
          "base_uri": "https://localhost:8080/",
          "height": 194
        },
        "outputId": "3aa150dc-01ef-4fe2-b323-79f9442a11e4"
      },
      "source": [
        "! pip install tweepy"
      ],
      "execution_count": null,
      "outputs": [
        {
          "output_type": "stream",
          "text": [
            "Requirement already satisfied: tweepy in /usr/local/lib/python3.6/dist-packages (3.6.0)\n",
            "Requirement already satisfied: requests-oauthlib>=0.7.0 in /usr/local/lib/python3.6/dist-packages (from tweepy) (1.2.0)\n",
            "Requirement already satisfied: six>=1.10.0 in /usr/local/lib/python3.6/dist-packages (from tweepy) (1.12.0)\n",
            "Requirement already satisfied: requests>=2.11.1 in /usr/local/lib/python3.6/dist-packages (from tweepy) (2.21.0)\n",
            "Requirement already satisfied: PySocks>=1.5.7 in /usr/local/lib/python3.6/dist-packages (from tweepy) (1.7.0)\n",
            "Requirement already satisfied: oauthlib>=3.0.0 in /usr/local/lib/python3.6/dist-packages (from requests-oauthlib>=0.7.0->tweepy) (3.1.0)\n",
            "Requirement already satisfied: idna<2.9,>=2.5 in /usr/local/lib/python3.6/dist-packages (from requests>=2.11.1->tweepy) (2.8)\n",
            "Requirement already satisfied: urllib3<1.25,>=1.21.1 in /usr/local/lib/python3.6/dist-packages (from requests>=2.11.1->tweepy) (1.24.3)\n",
            "Requirement already satisfied: certifi>=2017.4.17 in /usr/local/lib/python3.6/dist-packages (from requests>=2.11.1->tweepy) (2019.6.16)\n",
            "Requirement already satisfied: chardet<3.1.0,>=3.0.2 in /usr/local/lib/python3.6/dist-packages (from requests>=2.11.1->tweepy) (3.0.4)\n"
          ],
          "name": "stdout"
        }
      ]
    },
    {
      "cell_type": "code",
      "metadata": {
        "id": "hJLpH_4CTtZp",
        "colab_type": "code",
        "colab": {
          "base_uri": "https://localhost:8080/",
          "height": 247
        },
        "outputId": "6cf11076-8e62-4fd9-e0d1-9ed2f8bfb424"
      },
      "source": [
        "! pip install PyDrive"
      ],
      "execution_count": null,
      "outputs": [
        {
          "output_type": "stream",
          "text": [
            "Requirement already satisfied: PyDrive in /usr/local/lib/python3.6/dist-packages (1.3.1)\n",
            "Requirement already satisfied: PyYAML>=3.0 in /usr/local/lib/python3.6/dist-packages (from PyDrive) (3.13)\n",
            "Requirement already satisfied: google-api-python-client>=1.2 in /usr/local/lib/python3.6/dist-packages (from PyDrive) (1.7.11)\n",
            "Requirement already satisfied: oauth2client>=4.0.0 in /usr/local/lib/python3.6/dist-packages (from PyDrive) (4.1.3)\n",
            "Requirement already satisfied: six<2dev,>=1.6.1 in /usr/local/lib/python3.6/dist-packages (from google-api-python-client>=1.2->PyDrive) (1.12.0)\n",
            "Requirement already satisfied: uritemplate<4dev,>=3.0.0 in /usr/local/lib/python3.6/dist-packages (from google-api-python-client>=1.2->PyDrive) (3.0.0)\n",
            "Requirement already satisfied: httplib2<1dev,>=0.9.2 in /usr/local/lib/python3.6/dist-packages (from google-api-python-client>=1.2->PyDrive) (0.11.3)\n",
            "Requirement already satisfied: google-auth>=1.4.1 in /usr/local/lib/python3.6/dist-packages (from google-api-python-client>=1.2->PyDrive) (1.4.2)\n",
            "Requirement already satisfied: google-auth-httplib2>=0.0.3 in /usr/local/lib/python3.6/dist-packages (from google-api-python-client>=1.2->PyDrive) (0.0.3)\n",
            "Requirement already satisfied: rsa>=3.1.4 in /usr/local/lib/python3.6/dist-packages (from oauth2client>=4.0.0->PyDrive) (4.0)\n",
            "Requirement already satisfied: pyasn1-modules>=0.0.5 in /usr/local/lib/python3.6/dist-packages (from oauth2client>=4.0.0->PyDrive) (0.2.6)\n",
            "Requirement already satisfied: pyasn1>=0.1.7 in /usr/local/lib/python3.6/dist-packages (from oauth2client>=4.0.0->PyDrive) (0.4.7)\n",
            "Requirement already satisfied: cachetools>=2.0.0 in /usr/local/lib/python3.6/dist-packages (from google-auth>=1.4.1->google-api-python-client>=1.2->PyDrive) (3.1.1)\n"
          ],
          "name": "stdout"
        }
      ]
    },
    {
      "cell_type": "code",
      "metadata": {
        "id": "bTNDHvD0T7ib",
        "colab_type": "code",
        "colab": {}
      },
      "source": [
        "# Run this cell to import the packages you will need to unpack the dataset\n",
        "import pandas as pd\n",
        "import numpy as np\n",
        "from matplotlib import pyplot as plt\n",
        "from PIL import Image\n",
        "import pickle\n",
        "import os\n",
        "import zipfile\n",
        "import scipy.ndimage\n",
        "from google.colab import files\n",
        "\n",
        "import tweepy\n",
        "import sys\n",
        "import json\n",
        "import codecs\n",
        "from tweepy.parsers import JSONParser"
      ],
      "execution_count": null,
      "outputs": []
    },
    {
      "cell_type": "markdown",
      "metadata": {
        "id": "s-vEC--uUS7c",
        "colab_type": "text"
      },
      "source": [
        "# Getting new dataset that is cleaned"
      ]
    },
    {
      "cell_type": "code",
      "metadata": {
        "id": "mh7ORNhyTwMp",
        "colab_type": "code",
        "colab": {}
      },
      "source": [
        "### authentication -- run once \n",
        "from pydrive.auth import GoogleAuth\n",
        "from pydrive.drive import GoogleDrive\n",
        "from google.colab import auth\n",
        "from oauth2client.client import GoogleCredentials\n",
        " \n",
        "# 1. Authenticate and create the PyDrive client.\n",
        "auth.authenticate_user()\n",
        "gauth = GoogleAuth()\n",
        "gauth.credentials = GoogleCredentials.get_application_default()\n",
        "drive = GoogleDrive(gauth)"
      ],
      "execution_count": null,
      "outputs": []
    },
    {
      "cell_type": "code",
      "metadata": {
        "id": "dTaIBff-UK4E",
        "colab_type": "code",
        "colab": {
          "base_uri": "https://localhost:8080/",
          "height": 318
        },
        "outputId": "661ee639-a4fa-4ed3-b7b6-e66f2fcf0f32"
      },
      "source": [
        "\n",
        "### lists the files in the folder \n",
        "file_list = drive.ListFile({'q': \"'18sX8Dymv_AAEaY7mJxbmh_LjljD8oRwK' in parents and trashed=false\"}).GetList() ## long string in the url of folder\n",
        "for file1 in file_list:\n",
        "  print('title: %s, id: %s' % (file1['title'], file1['id']))"
      ],
      "execution_count": null,
      "outputs": [
        {
          "output_type": "stream",
          "text": [
            "title: true_ans_df, id: 1iSOAZSYZErO9Fq5w1_qSalMP-x8DaVPKO1-SKz1eVOA\n",
            "title: wrong_ans_df.csv, id: 1_j6ilNKGL71BqM262Vg8KTTiu9jT6ete\n",
            "title: true_ans_df.csv, id: 1drwwnkULVoMfKRJBkj-mCyaIlbRtPli5\n",
            "title: data_VEC, id: 1re1jFEQvnyeGuryQkl_dWaNoLnLBkN8Y44cIa6LqeJg\n",
            "title: data_VEC.csv, id: 1_oB0pdMdaHbVl6YllHKDFJGukhhfK-Iz\n",
            "title: Data CLEAN, id: 1pgellPyb7ynUHU64Prm0xZwI4-sqfw3M\n",
            "title: Original Tweets, id: 1yDewPt327TxTrKCvuCIpHNyigDMaKPyv\n",
            "title: bully_victim1.csv, id: 1ngNQ_sLWIAnN7scAxJl4-y8QZB_soeTQ\n",
            "title: bully_victim.csv, id: 1qud97IBO3rkLkmDJTi-Y8U--waH7v6tb\n",
            "title: data_categorical_multi.csv, id: 10qfXUcLUW4GPBM1ra3_cRBpnW9ltQEh-\n",
            "title: data_categorical_binary.csv, id: 1Mn0cT-De4mq-9gJ7J2s201jvZQ1bWNGK\n",
            "title: glove.6B.100d.txt, id: 1-FOMH_1xZcjtYo1uW3_2BwozqHFC-dZb\n",
            "title: glove.6B.zip, id: 1tuFKpS8F1lhnaemAYi_w498Vli6WGuKP\n",
            "title: data_tweet_clean_500_stop.csv, id: 1bUddQJ0LejpEROhpWmMtYYSoXvR2q4pc\n",
            "title: data_Tweet_clean.csv, id: 1FNa4-dHR6aEeunRIwMnaBBacSlCHZOsW\n",
            "title: Medication_1, id: 1yvcgD5F6on7s9gwS56GWajZNPtvYg_4H\n",
            "title: Twitter_Neg_Pos, id: 1-SvbE_55FqDfqtp588p3HvcojmREUOWc\n"
          ],
          "name": "stdout"
        }
      ]
    },
    {
      "cell_type": "code",
      "metadata": {
        "id": "eKVxYL3VUP3-",
        "colab_type": "code",
        "colab": {
          "base_uri": "https://localhost:8080/",
          "height": 497
        },
        "outputId": "623cc382-2d9a-4e8c-86b4-70cef24ed2e1"
      },
      "source": [
        "### download the file \n",
        "file_downloaded = drive.CreateFile({'id': '1Mn0cT-De4mq-9gJ7J2s201jvZQ1bWNGK'})\n",
        "file_downloaded.GetContentFile('data_categorical_binary.csv')\n",
        "\n",
        "df_data = pd.read_csv('data_categorical_binary.csv', dtype = object)\n",
        "df_data.head(15)"
      ],
      "execution_count": null,
      "outputs": [
        {
          "output_type": "execute_result",
          "data": {
            "text/html": [
              "<div>\n",
              "<style scoped>\n",
              "    .dataframe tbody tr th:only-of-type {\n",
              "        vertical-align: middle;\n",
              "    }\n",
              "\n",
              "    .dataframe tbody tr th {\n",
              "        vertical-align: top;\n",
              "    }\n",
              "\n",
              "    .dataframe thead th {\n",
              "        text-align: right;\n",
              "    }\n",
              "</style>\n",
              "<table border=\"1\" class=\"dataframe\">\n",
              "  <thead>\n",
              "    <tr style=\"text-align: right;\">\n",
              "      <th></th>\n",
              "      <th>Unnamed: 0</th>\n",
              "      <th>Tweet ID</th>\n",
              "      <th>User ID</th>\n",
              "      <th>Bullying_Traces?</th>\n",
              "      <th>Type</th>\n",
              "      <th>Form</th>\n",
              "      <th>Teasing?</th>\n",
              "      <th>Author_Role</th>\n",
              "      <th>Emotion</th>\n",
              "      <th>Text</th>\n",
              "    </tr>\n",
              "  </thead>\n",
              "  <tbody>\n",
              "    <tr>\n",
              "      <th>0</th>\n",
              "      <td>0</td>\n",
              "      <td>107688644067856384</td>\n",
              "      <td>185389094</td>\n",
              "      <td>1</td>\n",
              "      <td>1</td>\n",
              "      <td>1</td>\n",
              "      <td>1</td>\n",
              "      <td>1</td>\n",
              "      <td>1</td>\n",
              "      <td>@bellathorne143 i herd that you got bullied wh...</td>\n",
              "    </tr>\n",
              "    <tr>\n",
              "      <th>1</th>\n",
              "      <td>1</td>\n",
              "      <td>102206417217392640</td>\n",
              "      <td>226320672</td>\n",
              "      <td>0</td>\n",
              "      <td>0</td>\n",
              "      <td>0</td>\n",
              "      <td>0</td>\n",
              "      <td>0</td>\n",
              "      <td>0</td>\n",
              "      <td>Bullying: O gesto mais idiota, estpido e irrac...</td>\n",
              "    </tr>\n",
              "    <tr>\n",
              "      <th>2</th>\n",
              "      <td>2</td>\n",
              "      <td>102779484725448704</td>\n",
              "      <td>297557032</td>\n",
              "      <td>0</td>\n",
              "      <td>0</td>\n",
              "      <td>0</td>\n",
              "      <td>0</td>\n",
              "      <td>0</td>\n",
              "      <td>0</td>\n",
              "      <td>The Bully at School Goes High Tech  Part 1: \\n...</td>\n",
              "    </tr>\n",
              "    <tr>\n",
              "      <th>3</th>\n",
              "      <td>3</td>\n",
              "      <td>108676972149874688</td>\n",
              "      <td>157724561</td>\n",
              "      <td>0</td>\n",
              "      <td>0</td>\n",
              "      <td>0</td>\n",
              "      <td>0</td>\n",
              "      <td>0</td>\n",
              "      <td>0</td>\n",
              "      <td>Esse @Felipemath  fazendo bullying comigo! Haha'</td>\n",
              "    </tr>\n",
              "    <tr>\n",
              "      <th>4</th>\n",
              "      <td>4</td>\n",
              "      <td>106590106873372672</td>\n",
              "      <td>62179998</td>\n",
              "      <td>0</td>\n",
              "      <td>0</td>\n",
              "      <td>0</td>\n",
              "      <td>0</td>\n",
              "      <td>0</td>\n",
              "      <td>0</td>\n",
              "      <td>AUISHUAHS eu e o @wallace_mancha tiramos o dia...</td>\n",
              "    </tr>\n",
              "    <tr>\n",
              "      <th>5</th>\n",
              "      <td>5</td>\n",
              "      <td>109034091743154176</td>\n",
              "      <td>177913822</td>\n",
              "      <td>0</td>\n",
              "      <td>0</td>\n",
              "      <td>0</td>\n",
              "      <td>0</td>\n",
              "      <td>0</td>\n",
              "      <td>0</td>\n",
              "      <td>@Looweihao @haoyangg @sleepybed Hello, since w...</td>\n",
              "    </tr>\n",
              "    <tr>\n",
              "      <th>6</th>\n",
              "      <td>6</td>\n",
              "      <td>102533497637437441</td>\n",
              "      <td>70412906</td>\n",
              "      <td>1</td>\n",
              "      <td>1</td>\n",
              "      <td>1</td>\n",
              "      <td>1</td>\n",
              "      <td>1</td>\n",
              "      <td>3</td>\n",
              "      <td>For those keeping score at home- cousin who ju...</td>\n",
              "    </tr>\n",
              "    <tr>\n",
              "      <th>7</th>\n",
              "      <td>7</td>\n",
              "      <td>103679008855691264</td>\n",
              "      <td>11363462</td>\n",
              "      <td>0</td>\n",
              "      <td>0</td>\n",
              "      <td>0</td>\n",
              "      <td>0</td>\n",
              "      <td>0</td>\n",
              "      <td>0</td>\n",
              "      <td>BETTER ANTI-BULLYING AD SLOGANS: Hey, Bullies....</td>\n",
              "    </tr>\n",
              "    <tr>\n",
              "      <th>8</th>\n",
              "      <td>8</td>\n",
              "      <td>105202476927549441</td>\n",
              "      <td>293593896</td>\n",
              "      <td>0</td>\n",
              "      <td>0</td>\n",
              "      <td>0</td>\n",
              "      <td>0</td>\n",
              "      <td>0</td>\n",
              "      <td>0</td>\n",
              "      <td>@luttylutz bahh lo kaga demen dia juga? Gue ki...</td>\n",
              "    </tr>\n",
              "    <tr>\n",
              "      <th>9</th>\n",
              "      <td>9</td>\n",
              "      <td>107278521805713408</td>\n",
              "      <td>150964152</td>\n",
              "      <td>0</td>\n",
              "      <td>0</td>\n",
              "      <td>0</td>\n",
              "      <td>0</td>\n",
              "      <td>0</td>\n",
              "      <td>0</td>\n",
              "      <td>cara3: bully iam gara2 uda di ucpin tpi gk bls'</td>\n",
              "    </tr>\n",
              "    <tr>\n",
              "      <th>10</th>\n",
              "      <td>10</td>\n",
              "      <td>107478741424414720</td>\n",
              "      <td>360086723</td>\n",
              "      <td>0</td>\n",
              "      <td>0</td>\n",
              "      <td>0</td>\n",
              "      <td>0</td>\n",
              "      <td>0</td>\n",
              "      <td>0</td>\n",
              "      <td>http://t.co/nbBZDxf Please help to stop workpl...</td>\n",
              "    </tr>\n",
              "    <tr>\n",
              "      <th>11</th>\n",
              "      <td>11</td>\n",
              "      <td>103471384973418497</td>\n",
              "      <td>219025244</td>\n",
              "      <td>0</td>\n",
              "      <td>0</td>\n",
              "      <td>0</td>\n",
              "      <td>0</td>\n",
              "      <td>0</td>\n",
              "      <td>0</td>\n",
              "      <td>@lucy_robbo yes on thur, she said she might, w...</td>\n",
              "    </tr>\n",
              "    <tr>\n",
              "      <th>12</th>\n",
              "      <td>12</td>\n",
              "      <td>106840582453870592</td>\n",
              "      <td>244569315</td>\n",
              "      <td>0</td>\n",
              "      <td>0</td>\n",
              "      <td>0</td>\n",
              "      <td>0</td>\n",
              "      <td>0</td>\n",
              "      <td>0</td>\n",
              "      <td>@bbuk @brianofficial bobby needs threw out tha...</td>\n",
              "    </tr>\n",
              "    <tr>\n",
              "      <th>13</th>\n",
              "      <td>13</td>\n",
              "      <td>101324602789208064</td>\n",
              "      <td>210803457</td>\n",
              "      <td>1</td>\n",
              "      <td>1</td>\n",
              "      <td>1</td>\n",
              "      <td>1</td>\n",
              "      <td>1</td>\n",
              "      <td>3</td>\n",
              "      <td>don't you get it? This is me getting rid of yo...</td>\n",
              "    </tr>\n",
              "    <tr>\n",
              "      <th>14</th>\n",
              "      <td>14</td>\n",
              "      <td>105799405784936448</td>\n",
              "      <td>264606687</td>\n",
              "      <td>0</td>\n",
              "      <td>0</td>\n",
              "      <td>0</td>\n",
              "      <td>0</td>\n",
              "      <td>0</td>\n",
              "      <td>0</td>\n",
              "      <td>No  bullying se eu jogar um tijolo na sua cara...</td>\n",
              "    </tr>\n",
              "  </tbody>\n",
              "</table>\n",
              "</div>"
            ],
            "text/plain": [
              "   Unnamed: 0  ...                                               Text\n",
              "0           0  ...  @bellathorne143 i herd that you got bullied wh...\n",
              "1           1  ...  Bullying: O gesto mais idiota, estpido e irrac...\n",
              "2           2  ...  The Bully at School Goes High Tech  Part 1: \\n...\n",
              "3           3  ...   Esse @Felipemath  fazendo bullying comigo! Haha'\n",
              "4           4  ...  AUISHUAHS eu e o @wallace_mancha tiramos o dia...\n",
              "5           5  ...  @Looweihao @haoyangg @sleepybed Hello, since w...\n",
              "6           6  ...  For those keeping score at home- cousin who ju...\n",
              "7           7  ...  BETTER ANTI-BULLYING AD SLOGANS: Hey, Bullies....\n",
              "8           8  ...  @luttylutz bahh lo kaga demen dia juga? Gue ki...\n",
              "9           9  ...    cara3: bully iam gara2 uda di ucpin tpi gk bls'\n",
              "10         10  ...  http://t.co/nbBZDxf Please help to stop workpl...\n",
              "11         11  ...  @lucy_robbo yes on thur, she said she might, w...\n",
              "12         12  ...  @bbuk @brianofficial bobby needs threw out tha...\n",
              "13         13  ...  don't you get it? This is me getting rid of yo...\n",
              "14         14  ...  No  bullying se eu jogar um tijolo na sua cara...\n",
              "\n",
              "[15 rows x 10 columns]"
            ]
          },
          "metadata": {
            "tags": []
          },
          "execution_count": 7
        }
      ]
    },
    {
      "cell_type": "code",
      "metadata": {
        "id": "vX9oCoEu0X2z",
        "colab_type": "code",
        "colab": {
          "base_uri": "https://localhost:8080/",
          "height": 1000
        },
        "outputId": "8df86ae1-aefa-483c-de0d-534e80ae56e1"
      },
      "source": [
        "\n",
        "\n",
        "#print(df_data[\"Text\"][0:].replace('b'', ''))\n",
        "                                  \n",
        "print(df_data[\"Text\"].replace(\"b\\'\", ''))\n",
        "\n"
      ],
      "execution_count": null,
      "outputs": [
        {
          "output_type": "stream",
          "text": [
            "0       @bellathorne143 i herd that you got bullied wh...\n",
            "1       Bullying: O gesto mais idiota, estpido e irrac...\n",
            "2       The Bully at School Goes High Tech  Part 1: \\n...\n",
            "3        Esse @Felipemath  fazendo bullying comigo! Haha'\n",
            "4       AUISHUAHS eu e o @wallace_mancha tiramos o dia...\n",
            "5       @Looweihao @haoyangg @sleepybed Hello, since w...\n",
            "6       For those keeping score at home- cousin who ju...\n",
            "7       BETTER ANTI-BULLYING AD SLOGANS: Hey, Bullies....\n",
            "8       @luttylutz bahh lo kaga demen dia juga? Gue ki...\n",
            "9         cara3: bully iam gara2 uda di ucpin tpi gk bls'\n",
            "10      http://t.co/nbBZDxf Please help to stop workpl...\n",
            "11      @lucy_robbo yes on thur, she said she might, w...\n",
            "12      @bbuk @brianofficial bobby needs threw out tha...\n",
            "13      don't you get it? This is me getting rid of yo...\n",
            "14      No  bullying se eu jogar um tijolo na sua cara...\n",
            "15      @BillyBlancO_ @DjLBully nigga used to be a rea...\n",
            "16      theres going to be bullys and ignorant people ...\n",
            "17      @_MacaAlejandra @xsiempreJcyFer @camiiHidalgo_...\n",
            "18      pois agora  crime! Sacanear Palmeirense  Bully...\n",
            "19      If I'm not happy with my classes this week, I'...\n",
            "20      Suposta vtima de bullying, estudante pula do p...\n",
            "21      Tusuk tikam jejak! Bwahaha \"@Christ_Yosh10: @s...\n",
            "22      In high school, it's bullying. But in a profes...\n",
            "23      vira pro chefe e diz que o colega t fazendo bu...\n",
            "24                            @JJS1994_ stop bullying me'\n",
            "25      News from PrayerThatHeals.org - A spiritual de...\n",
            "26      Damm I think I'm slick bully this dude always ...\n",
            "27      @chelseabieber95 duuuuude. cyber bully much? I...\n",
            "28      #gymflow as my sister just showed off her push...\n",
            "29      @samGarvaux  Mostly I agree with @Shoq.  Havin...\n",
            "                              ...                        \n",
            "2051    @IamCMIKE @JoshB360 @MrYeeeah yall remember th...\n",
            "2052                  @TheGomezHomies you're a bully -_-\"\n",
            "2053    @HelpStpBullying anyone that gets bullied prob...\n",
            "2054    Teen musicians wrap up national anti-bullying ...\n",
            "2055    @Asperger_Mom The one that Zoey is claiming th...\n",
            "2056    @818_DodgersFan @Kanguro30 thank you! He's jus...\n",
            "2057    meu. A vida est passando pra mim. Ontem eu est...\n",
            "2058                             #bully tbm faliu kkkkkk'\n",
            "2059    @d99radio Manrriquez cuando sufres de bulling ...\n",
            "2060    \"Sempat ngerasa keki, krna selalu di bully...~...\n",
            "2061    that biatch sayin she got bullied in school is...\n",
            "2062    who wants to be in an Anti-Bullying video?????...\n",
            "2063    Se vc me der unfollow vou\\nlevar isso como bul...\n",
            "2064    @fajarghosty khusus bully kamu aja deh *sejak ...\n",
            "2065    Tables Turn for Apple's Rep as Patent Bully \\n...\n",
            "2066                         @EmmaxxxChloe is a bully :('\n",
            "2067    @Kcocomiracle why? She bully you Eh :\\\\ SMS me...\n",
            "2068    @jcsaint_22 rather me bully them then stranger...\n",
            "2069                           Call me the bedroom Bully'\n",
            "2070    @PeriodicoZocalo amigos chequen la nota del Bu...\n",
            "2071    @savannuchi bullying  um assunto srio , fale c...\n",
            "2072    @BEYONDGAWJUS lol...cyber bullying rotflmao #g...\n",
            "2073    Aidan had another good day at school - no chec...\n",
            "2074    Tragedy: Rebecca black forced to drop out of s...\n",
            "2075    @ICONSwagStories Oh my gosh I love the story!!...\n",
            "2076    Voc  a favor ou contra o bullying? Voc prefere...\n",
            "2077    Why is Ken Starr now the spokesman for the Big...\n",
            "2078              @steffybabyx3 u mean n u a bully lmaoo'\n",
            "2079    5 teens had A 14 Year Old Girl Hang Herself BC...\n",
            "2080    I have a serious question for all of you. How ...\n",
            "Name: Text, Length: 2081, dtype: object\n"
          ],
          "name": "stdout"
        }
      ]
    },
    {
      "cell_type": "markdown",
      "metadata": {
        "id": "MRaAWlRiVCz-",
        "colab_type": "text"
      },
      "source": [
        "# Authenticating Twitter Process"
      ]
    },
    {
      "cell_type": "code",
      "metadata": {
        "id": "VatlPlcZVFyX",
        "colab_type": "code",
        "colab": {}
      },
      "source": [
        "####### Access Information #################\n",
        "\n",
        "# Parameter you need to specify\n",
        "consumer_key = '7w9qPKMQzbCNvx4cjVoaLqjjt'\n",
        "consumer_secret = 'bj8lNT1yJTkZHlIbg6n7NEBTX73oQttmbPy7nCUuEcYEuldt7O'\n",
        "access_key = '4439149653-6eK3Z25ODtI3sg7rv3NqNLAWmO6vz270Lewq1tD'\n",
        "access_secret = 'AJtrhAdfUmWjWnirvASSsp5PEjDbiNwO5XBDxeSuLypxs'\n",
        "\n",
        "inputFile = 'tweet_id'\n",
        "outputFile = 'tweet.json'\n",
        "\n",
        "#############################################"
      ],
      "execution_count": null,
      "outputs": []
    },
    {
      "cell_type": "code",
      "metadata": {
        "id": "MLOiQz4rVHDn",
        "colab_type": "code",
        "colab": {}
      },
      "source": [
        "auth = tweepy.OAuthHandler(consumer_key, consumer_secret)\n",
        "auth.set_access_token(access_key, access_secret)\n",
        "api = tweepy.API(auth_handler=auth, parser=JSONParser())"
      ],
      "execution_count": null,
      "outputs": []
    },
    {
      "cell_type": "markdown",
      "metadata": {
        "id": "b2_49d6rbLI4",
        "colab_type": "text"
      },
      "source": [
        "# Just testing out text extraction and adding it as a feature"
      ]
    },
    {
      "cell_type": "code",
      "metadata": {
        "id": "6zf18f2bU2Am",
        "colab_type": "code",
        "colab": {}
      },
      "source": [
        "#extracting the text sample (EXAMPLE)\n",
        "\n",
        "# print(tweet.keys())\n",
        "# for val in tweet.keys():\n",
        "#   print(val, tweet[val])\n",
        "#text = tweet['text'].encode('ascii', 'ignore')"
      ],
      "execution_count": null,
      "outputs": []
    },
    {
      "cell_type": "code",
      "metadata": {
        "id": "ybqXFRPvZ-8q",
        "colab_type": "code",
        "colab": {}
      },
      "source": [
        "\n",
        "#text"
      ],
      "execution_count": null,
      "outputs": []
    },
    {
      "cell_type": "code",
      "metadata": {
        "id": "kPtGeULCaGBr",
        "colab_type": "code",
        "colab": {}
      },
      "source": [
        "### concatenating a list of zeros to dataframe\n",
        "# l = pd.Series(list(np.zeros(df_data.shape[0])))\n",
        "# df_data_sample = pd.concat([df_data, l], axis = 1)\n",
        "# df_data_sample.head(5)\n",
        "# for val in df_data['Text']:\n",
        "#   listEdit = list(val)\n",
        "#   listEdit.pop(0)\n",
        "#   listEdit.pop(0)\n",
        "#   str1 = ''.join(listEdit)\n",
        "#   #print(str1)\n",
        "# print(df_data.head(25))"
      ],
      "execution_count": null,
      "outputs": []
    },
    {
      "cell_type": "code",
      "metadata": {
        "id": "DYsKqooRcuT3",
        "colab_type": "code",
        "colab": {
          "base_uri": "https://localhost:8080/",
          "height": 1000
        },
        "outputId": "73fbc6e7-ca36-4f88-8cc2-bcc4edbf21ea"
      },
      "source": [
        "# for i in range(0,df_data.shape[0]):\n",
        "# #for val in df_data['Text']:\n",
        "#   listEdit = list(df_data['Text'][i])\n",
        "#   listEdit.pop(0)\n",
        "#   listEdit.pop(0)\n",
        "#   str1 = ''.join(listEdit)\n",
        "#   #print(str1)\n",
        "#   df_data['Text'][i] = str1\n",
        "#df_data.head(10)\n",
        "print(df_data['Text'])"
      ],
      "execution_count": null,
      "outputs": [
        {
          "output_type": "stream",
          "text": [
            "0       @bellathorne143 i herd that you got bullied wh...\n",
            "1       Bullying: O gesto mais idiota, estpido e irrac...\n",
            "2       The Bully at School Goes High Tech  Part 1: \\n...\n",
            "3        Esse @Felipemath  fazendo bullying comigo! Haha'\n",
            "4       AUISHUAHS eu e o @wallace_mancha tiramos o dia...\n",
            "5       @Looweihao @haoyangg @sleepybed Hello, since w...\n",
            "6       For those keeping score at home- cousin who ju...\n",
            "7       BETTER ANTI-BULLYING AD SLOGANS: Hey, Bullies....\n",
            "8       @luttylutz bahh lo kaga demen dia juga? Gue ki...\n",
            "9         cara3: bully iam gara2 uda di ucpin tpi gk bls'\n",
            "10      http://t.co/nbBZDxf Please help to stop workpl...\n",
            "11      @lucy_robbo yes on thur, she said she might, w...\n",
            "12      @bbuk @brianofficial bobby needs threw out tha...\n",
            "13      don't you get it? This is me getting rid of yo...\n",
            "14      No  bullying se eu jogar um tijolo na sua cara...\n",
            "15      @BillyBlancO_ @DjLBully nigga used to be a rea...\n",
            "16      theres going to be bullys and ignorant people ...\n",
            "17      @_MacaAlejandra @xsiempreJcyFer @camiiHidalgo_...\n",
            "18      pois agora  crime! Sacanear Palmeirense  Bully...\n",
            "19      If I'm not happy with my classes this week, I'...\n",
            "20      Suposta vtima de bullying, estudante pula do p...\n",
            "21      Tusuk tikam jejak! Bwahaha \"@Christ_Yosh10: @s...\n",
            "22      In high school, it's bullying. But in a profes...\n",
            "23      vira pro chefe e diz que o colega t fazendo bu...\n",
            "24                            @JJS1994_ stop bullying me'\n",
            "25      News from PrayerThatHeals.org - A spiritual de...\n",
            "26      Damm I think I'm slick bully this dude always ...\n",
            "27      @chelseabieber95 duuuuude. cyber bully much? I...\n",
            "28      #gymflow as my sister just showed off her push...\n",
            "29      @samGarvaux  Mostly I agree with @Shoq.  Havin...\n",
            "                              ...                        \n",
            "2051    @IamCMIKE @JoshB360 @MrYeeeah yall remember th...\n",
            "2052                  @TheGomezHomies you're a bully -_-\"\n",
            "2053    @HelpStpBullying anyone that gets bullied prob...\n",
            "2054    Teen musicians wrap up national anti-bullying ...\n",
            "2055    @Asperger_Mom The one that Zoey is claiming th...\n",
            "2056    @818_DodgersFan @Kanguro30 thank you! He's jus...\n",
            "2057    meu. A vida est passando pra mim. Ontem eu est...\n",
            "2058                             #bully tbm faliu kkkkkk'\n",
            "2059    @d99radio Manrriquez cuando sufres de bulling ...\n",
            "2060    \"Sempat ngerasa keki, krna selalu di bully...~...\n",
            "2061    that biatch sayin she got bullied in school is...\n",
            "2062    who wants to be in an Anti-Bullying video?????...\n",
            "2063    Se vc me der unfollow vou\\nlevar isso como bul...\n",
            "2064    @fajarghosty khusus bully kamu aja deh *sejak ...\n",
            "2065    Tables Turn for Apple's Rep as Patent Bully \\n...\n",
            "2066                         @EmmaxxxChloe is a bully :('\n",
            "2067    @Kcocomiracle why? She bully you Eh :\\\\ SMS me...\n",
            "2068    @jcsaint_22 rather me bully them then stranger...\n",
            "2069                           Call me the bedroom Bully'\n",
            "2070    @PeriodicoZocalo amigos chequen la nota del Bu...\n",
            "2071    @savannuchi bullying  um assunto srio , fale c...\n",
            "2072    @BEYONDGAWJUS lol...cyber bullying rotflmao #g...\n",
            "2073    Aidan had another good day at school - no chec...\n",
            "2074    Tragedy: Rebecca black forced to drop out of s...\n",
            "2075    @ICONSwagStories Oh my gosh I love the story!!...\n",
            "2076    Voc  a favor ou contra o bullying? Voc prefere...\n",
            "2077    Why is Ken Starr now the spokesman for the Big...\n",
            "2078              @steffybabyx3 u mean n u a bully lmaoo'\n",
            "2079    5 teens had A 14 Year Old Girl Hang Herself BC...\n",
            "2080    I have a serious question for all of you. How ...\n",
            "Name: Text, Length: 2081, dtype: object\n"
          ],
          "name": "stdout"
        }
      ]
    },
    {
      "cell_type": "code",
      "metadata": {
        "id": "GJ8vAxhgxFOi",
        "colab_type": "code",
        "colab": {}
      },
      "source": [
        "\n",
        "from google.colab import files\n",
        "#files.download('data_Tweet_clean.csv')"
      ],
      "execution_count": null,
      "outputs": []
    },
    {
      "cell_type": "markdown",
      "metadata": {
        "id": "6v34-3ggbQ2Z",
        "colab_type": "text"
      },
      "source": [
        "# Still experimenting"
      ]
    },
    {
      "cell_type": "code",
      "metadata": {
        "id": "IXW5vQ2cgJx3",
        "colab_type": "code",
        "colab": {
          "base_uri": "https://localhost:8080/",
          "height": 52
        },
        "outputId": "30248ff9-f547-4dab-878b-15c1f069e1df"
      },
      "source": [
        "! pip install nltk"
      ],
      "execution_count": null,
      "outputs": [
        {
          "output_type": "stream",
          "text": [
            "Requirement already satisfied: nltk in /usr/local/lib/python3.6/dist-packages (3.2.5)\n",
            "Requirement already satisfied: six in /usr/local/lib/python3.6/dist-packages (from nltk) (1.12.0)\n"
          ],
          "name": "stdout"
        }
      ]
    },
    {
      "cell_type": "code",
      "metadata": {
        "id": "AIFbPTuJfe6C",
        "colab_type": "code",
        "colab": {}
      },
      "source": [
        "\n",
        "text_feature = list()"
      ],
      "execution_count": null,
      "outputs": []
    },
    {
      "cell_type": "code",
      "metadata": {
        "id": "VILgdFkCbTXL",
        "colab_type": "code",
        "colab": {
          "base_uri": "https://localhost:8080/",
          "height": 781
        },
        "outputId": "1cbfbce0-6c34-43d6-e47a-d8905047f9da"
      },
      "source": [
        "indices_to_drop = list()\n",
        "for i in range(0, 500):\n",
        "  try:\n",
        "    tweet = api.get_status(int(df_data['Tweet ID'][i]))\n",
        "    text = tweet['text'].encode('ascii', 'ignore')\n",
        "    text_feature.append(text)   \n",
        "  except tweepy.error.TweepError:\n",
        "    print(tweepy.error.TweepError)\n",
        "    indices_to_drop.append(i)\n",
        "    pass\n",
        "\n",
        "  if i % 50 == 0:\n",
        "    print(i)\n"
      ],
      "execution_count": null,
      "outputs": [
        {
          "output_type": "stream",
          "text": [
            "0\n",
            "<class 'tweepy.error.TweepError'>\n",
            "<class 'tweepy.error.TweepError'>\n",
            "50\n",
            "<class 'tweepy.error.TweepError'>\n",
            "<class 'tweepy.error.TweepError'>\n",
            "<class 'tweepy.error.TweepError'>\n",
            "100\n",
            "<class 'tweepy.error.TweepError'>\n",
            "<class 'tweepy.error.TweepError'>\n",
            "<class 'tweepy.error.TweepError'>\n",
            "150\n",
            "<class 'tweepy.error.TweepError'>\n",
            "<class 'tweepy.error.TweepError'>\n",
            "<class 'tweepy.error.TweepError'>\n",
            "200\n",
            "<class 'tweepy.error.TweepError'>\n",
            "<class 'tweepy.error.TweepError'>\n",
            "<class 'tweepy.error.TweepError'>\n",
            "250\n",
            "<class 'tweepy.error.TweepError'>\n",
            "<class 'tweepy.error.TweepError'>\n",
            "<class 'tweepy.error.TweepError'>\n",
            "<class 'tweepy.error.TweepError'>\n",
            "300\n",
            "<class 'tweepy.error.TweepError'>\n",
            "<class 'tweepy.error.TweepError'>\n",
            "<class 'tweepy.error.TweepError'>\n",
            "350\n",
            "<class 'tweepy.error.TweepError'>\n",
            "<class 'tweepy.error.TweepError'>\n",
            "<class 'tweepy.error.TweepError'>\n",
            "<class 'tweepy.error.TweepError'>\n",
            "400\n",
            "<class 'tweepy.error.TweepError'>\n",
            "<class 'tweepy.error.TweepError'>\n",
            "<class 'tweepy.error.TweepError'>\n",
            "<class 'tweepy.error.TweepError'>\n",
            "450\n",
            "<class 'tweepy.error.TweepError'>\n",
            "<class 'tweepy.error.TweepError'>\n",
            "<class 'tweepy.error.TweepError'>\n",
            "<class 'tweepy.error.TweepError'>\n"
          ],
          "name": "stdout"
        }
      ]
    },
    {
      "cell_type": "code",
      "metadata": {
        "id": "Ch6JZwqIIfWc",
        "colab_type": "code",
        "colab": {
          "base_uri": "https://localhost:8080/",
          "height": 34
        },
        "outputId": "ea2b2680-bb4b-45bc-fe51-6c9ef81b162c"
      },
      "source": [
        "len(indices_to_drop)"
      ],
      "execution_count": null,
      "outputs": [
        {
          "output_type": "execute_result",
          "data": {
            "text/plain": [
              "33"
            ]
          },
          "metadata": {
            "tags": []
          },
          "execution_count": 19
        }
      ]
    },
    {
      "cell_type": "code",
      "metadata": {
        "id": "D0o4eluAd5Om",
        "colab_type": "code",
        "colab": {
          "base_uri": "https://localhost:8080/",
          "height": 34
        },
        "outputId": "9c0b1e03-2b2a-49f4-e9d3-9421222b4be1"
      },
      "source": [
        "\n",
        "api.wait_on_rate_limit"
      ],
      "execution_count": null,
      "outputs": [
        {
          "output_type": "execute_result",
          "data": {
            "text/plain": [
              "False"
            ]
          },
          "metadata": {
            "tags": []
          },
          "execution_count": 20
        }
      ]
    },
    {
      "cell_type": "code",
      "metadata": {
        "id": "LlOGd5ZWsaGF",
        "colab_type": "code",
        "colab": {}
      },
      "source": [
        "from nltk.corpus import stopwords\n",
        "from nltk import *\n",
        "from nltk.tokenize import TweetTokenizer\n",
        "tknzr = TweetTokenizer()\n",
        "# s0 = \"This is a cooool #dummysmiley: :-) :-P <3 and some arrows < > -> <--\"\n",
        "# tknzr.tokenize(s0)\n",
        "# #from nltk.book import *\n",
        "# stopList = stopwords.words('spanish')\n",
        "# print(stopList)\n",
        "#tomato = FreqDist(list(text1))\n",
        "# keyList = tomato.keys()\n",
        "# newList = []\n",
        "# for word in keyList:\n",
        "#     if word.isalpha():\n",
        "#         if word not in stopList:\n",
        "#             newList.append(word)\n",
        "# listTomato2 = sorted(newList, key = lambda x:tomato[x],reverse=True)\n",
        "# print(listTomato2[:50])\n",
        "import nltk\n",
        "nltk.download('stopwords')\n",
        "\n",
        "english_stop_list = stopwords.words('english')\n",
        "spanish_stop_list = stopwords.words('spanish')\n",
        "french_stop_list = stopwords.words('french')\n",
        "for i in range(0,df_data.shape[0]):\n",
        "  text_list = tknzr.tokenize(df_data['Text'][i])\n",
        "  newList = []\n",
        "  for word in text_list:\n",
        "     if ((word not in english_stop_list) and (word not in spanish_stop_list) and (word not in french_stop_list)):\n",
        "      newList.append(word)\n",
        "  print(newList)\n",
        "  str1 = ' '.join(newList)\n",
        "  print(str1)\n",
        "  df_data['Text'][i] = str1"
      ],
      "execution_count": null,
      "outputs": []
    },
    {
      "cell_type": "code",
      "metadata": {
        "id": "udUq8fho2Fa_",
        "colab_type": "code",
        "colab": {}
      },
      "source": [
        "df_data.to_csv('data_tweet_clean_500_stop.csv')\n",
        "\n",
        "from google.colab import files\n",
        "files.download('data_tweet_clean_500_stop.csv')"
      ],
      "execution_count": null,
      "outputs": []
    },
    {
      "cell_type": "code",
      "metadata": {
        "id": "X9TCy0sbj3qT",
        "colab_type": "code",
        "colab": {
          "base_uri": "https://localhost:8080/",
          "height": 204
        },
        "outputId": "fa0a28a1-28de-4264-87f5-f179686ec354"
      },
      "source": [
        "for i in range(0,500):\n",
        "  tweet = api.get_status(int(df_data['Tweet ID'][i]))\n",
        "  print(tweet['user']['age'])"
      ],
      "execution_count": null,
      "outputs": [
        {
          "output_type": "error",
          "ename": "AttributeError",
          "evalue": "ignored",
          "traceback": [
            "\u001b[0;31m---------------------------------------------------------------------------\u001b[0m",
            "\u001b[0;31mAttributeError\u001b[0m                            Traceback (most recent call last)",
            "\u001b[0;32m<ipython-input-36-a47e3fe89278>\u001b[0m in \u001b[0;36m<module>\u001b[0;34m()\u001b[0m\n\u001b[1;32m      1\u001b[0m \u001b[0;32mfor\u001b[0m \u001b[0mi\u001b[0m \u001b[0;32min\u001b[0m \u001b[0mrange\u001b[0m\u001b[0;34m(\u001b[0m\u001b[0;36m0\u001b[0m\u001b[0;34m,\u001b[0m\u001b[0;36m500\u001b[0m\u001b[0;34m)\u001b[0m\u001b[0;34m:\u001b[0m\u001b[0;34m\u001b[0m\u001b[0;34m\u001b[0m\u001b[0m\n\u001b[0;32m----> 2\u001b[0;31m   \u001b[0mtweet\u001b[0m \u001b[0;34m=\u001b[0m \u001b[0mapi\u001b[0m\u001b[0;34m.\u001b[0m\u001b[0mget_status\u001b[0m\u001b[0;34m(\u001b[0m\u001b[0mint\u001b[0m\u001b[0;34m(\u001b[0m\u001b[0mdf_data\u001b[0m\u001b[0;34m[\u001b[0m\u001b[0;34m'Tweet ID'\u001b[0m\u001b[0;34m]\u001b[0m\u001b[0;34m[\u001b[0m\u001b[0mi\u001b[0m\u001b[0;34m]\u001b[0m\u001b[0;34m)\u001b[0m\u001b[0;34m)\u001b[0m\u001b[0;34m\u001b[0m\u001b[0;34m\u001b[0m\u001b[0m\n\u001b[0m\u001b[1;32m      3\u001b[0m   \u001b[0mprint\u001b[0m\u001b[0;34m(\u001b[0m\u001b[0mtweet\u001b[0m\u001b[0;34m[\u001b[0m\u001b[0;34m'user'\u001b[0m\u001b[0;34m]\u001b[0m\u001b[0;34m[\u001b[0m\u001b[0;34m'age'\u001b[0m\u001b[0;34m]\u001b[0m\u001b[0;34m)\u001b[0m\u001b[0;34m\u001b[0m\u001b[0;34m\u001b[0m\u001b[0m\n",
            "\u001b[0;31mAttributeError\u001b[0m: module 'nltk.stem.api' has no attribute 'get_status'"
          ]
        }
      ]
    },
    {
      "cell_type": "code",
      "metadata": {
        "id": "q0io0-n2tMQp",
        "colab_type": "code",
        "colab": {
          "base_uri": "https://localhost:8080/",
          "height": 34
        },
        "outputId": "8f3e5e7e-e099-4930-85ce-61042505e1b3"
      },
      "source": [
        "stopList = stopwords.words(\"english\")\n",
        "tomato = FreqDist(list(newList))\n",
        "keyList = tomato.keys()\n",
        "newList = []\n",
        "for word in keyList:\n",
        "   if word.isalpha():\n",
        "       if word not in stopList:\n",
        "           newList.append(word)\n",
        "listTomato2 = sorted(newList, key = lambda x:tomato[x],reverse=True)\n",
        "print(listTomato2[:50])\n"
      ],
      "execution_count": null,
      "outputs": [
        {
          "output_type": "stream",
          "text": [
            "['How', 'I', 'serious', 'question', 'many', 'children', 'victims', 'bullying', 'deal']\n"
          ],
          "name": "stdout"
        }
      ]
    }
  ]
}