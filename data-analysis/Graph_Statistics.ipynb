{
  "nbformat": 4,
  "nbformat_minor": 0,
  "metadata": {
    "colab": {
      "name": "Graph/Statistics.ipynb",
      "provenance": []
    },
    "kernelspec": {
      "name": "python3",
      "display_name": "Python 3"
    },
    "accelerator": "GPU"
  },
  "cells": [
    {
      "cell_type": "markdown",
      "metadata": {
        "id": "iSUolCgLTwwY",
        "colab_type": "text"
      },
      "source": [
        "# Installing and importing packages"
      ]
    },
    {
      "cell_type": "code",
      "metadata": {
        "id": "SVvMudt7Teus",
        "colab_type": "code",
        "colab": {
          "base_uri": "https://localhost:8080/",
          "height": 194
        },
        "outputId": "26c273fa-587a-4206-e4f2-b5557638b215"
      },
      "source": [
        "! pip install tweepy"
      ],
      "execution_count": null,
      "outputs": [
        {
          "output_type": "stream",
          "text": [
            "Requirement already satisfied: tweepy in /usr/local/lib/python3.6/dist-packages (3.6.0)\n",
            "Requirement already satisfied: requests-oauthlib>=0.7.0 in /usr/local/lib/python3.6/dist-packages (from tweepy) (1.2.0)\n",
            "Requirement already satisfied: requests>=2.11.1 in /usr/local/lib/python3.6/dist-packages (from tweepy) (2.21.0)\n",
            "Requirement already satisfied: six>=1.10.0 in /usr/local/lib/python3.6/dist-packages (from tweepy) (1.12.0)\n",
            "Requirement already satisfied: PySocks>=1.5.7 in /usr/local/lib/python3.6/dist-packages (from tweepy) (1.7.0)\n",
            "Requirement already satisfied: oauthlib>=3.0.0 in /usr/local/lib/python3.6/dist-packages (from requests-oauthlib>=0.7.0->tweepy) (3.1.0)\n",
            "Requirement already satisfied: certifi>=2017.4.17 in /usr/local/lib/python3.6/dist-packages (from requests>=2.11.1->tweepy) (2019.6.16)\n",
            "Requirement already satisfied: chardet<3.1.0,>=3.0.2 in /usr/local/lib/python3.6/dist-packages (from requests>=2.11.1->tweepy) (3.0.4)\n",
            "Requirement already satisfied: idna<2.9,>=2.5 in /usr/local/lib/python3.6/dist-packages (from requests>=2.11.1->tweepy) (2.8)\n",
            "Requirement already satisfied: urllib3<1.25,>=1.21.1 in /usr/local/lib/python3.6/dist-packages (from requests>=2.11.1->tweepy) (1.24.3)\n"
          ],
          "name": "stdout"
        }
      ]
    },
    {
      "cell_type": "code",
      "metadata": {
        "id": "hJLpH_4CTtZp",
        "colab_type": "code",
        "colab": {
          "base_uri": "https://localhost:8080/",
          "height": 247
        },
        "outputId": "9b04b7df-48b8-488d-8067-d47bc0a2ef83"
      },
      "source": [
        "! pip install PyDrive"
      ],
      "execution_count": null,
      "outputs": [
        {
          "output_type": "stream",
          "text": [
            "Requirement already satisfied: PyDrive in /usr/local/lib/python3.6/dist-packages (1.3.1)\n",
            "Requirement already satisfied: google-api-python-client>=1.2 in /usr/local/lib/python3.6/dist-packages (from PyDrive) (1.7.11)\n",
            "Requirement already satisfied: oauth2client>=4.0.0 in /usr/local/lib/python3.6/dist-packages (from PyDrive) (4.1.3)\n",
            "Requirement already satisfied: PyYAML>=3.0 in /usr/local/lib/python3.6/dist-packages (from PyDrive) (3.13)\n",
            "Requirement already satisfied: httplib2<1dev,>=0.9.2 in /usr/local/lib/python3.6/dist-packages (from google-api-python-client>=1.2->PyDrive) (0.11.3)\n",
            "Requirement already satisfied: google-auth-httplib2>=0.0.3 in /usr/local/lib/python3.6/dist-packages (from google-api-python-client>=1.2->PyDrive) (0.0.3)\n",
            "Requirement already satisfied: six<2dev,>=1.6.1 in /usr/local/lib/python3.6/dist-packages (from google-api-python-client>=1.2->PyDrive) (1.12.0)\n",
            "Requirement already satisfied: google-auth>=1.4.1 in /usr/local/lib/python3.6/dist-packages (from google-api-python-client>=1.2->PyDrive) (1.4.2)\n",
            "Requirement already satisfied: uritemplate<4dev,>=3.0.0 in /usr/local/lib/python3.6/dist-packages (from google-api-python-client>=1.2->PyDrive) (3.0.0)\n",
            "Requirement already satisfied: pyasn1>=0.1.7 in /usr/local/lib/python3.6/dist-packages (from oauth2client>=4.0.0->PyDrive) (0.4.7)\n",
            "Requirement already satisfied: pyasn1-modules>=0.0.5 in /usr/local/lib/python3.6/dist-packages (from oauth2client>=4.0.0->PyDrive) (0.2.6)\n",
            "Requirement already satisfied: rsa>=3.1.4 in /usr/local/lib/python3.6/dist-packages (from oauth2client>=4.0.0->PyDrive) (4.0)\n",
            "Requirement already satisfied: cachetools>=2.0.0 in /usr/local/lib/python3.6/dist-packages (from google-auth>=1.4.1->google-api-python-client>=1.2->PyDrive) (3.1.1)\n"
          ],
          "name": "stdout"
        }
      ]
    },
    {
      "cell_type": "code",
      "metadata": {
        "id": "bTNDHvD0T7ib",
        "colab_type": "code",
        "colab": {}
      },
      "source": [
        "# Run this cell to import the packages you will need to unpack the dataset\n",
        "import pandas as pd\n",
        "import numpy as np\n",
        "from matplotlib import pyplot as plt\n",
        "from PIL import Image\n",
        "import pickle\n",
        "import os\n",
        "import zipfile\n",
        "import scipy.ndimage\n",
        "from google.colab import files\n",
        "from scipy import stats\n",
        "\n",
        "import tweepy\n",
        "import sys\n",
        "import json\n",
        "import codecs\n",
        "from tweepy.parsers import JSONParser"
      ],
      "execution_count": null,
      "outputs": []
    },
    {
      "cell_type": "markdown",
      "metadata": {
        "id": "s-vEC--uUS7c",
        "colab_type": "text"
      },
      "source": [
        "# Getting new dataset that is cleaned"
      ]
    },
    {
      "cell_type": "code",
      "metadata": {
        "id": "mh7ORNhyTwMp",
        "colab_type": "code",
        "colab": {}
      },
      "source": [
        "### authentication -- run once \n",
        "from pydrive.auth import GoogleAuth\n",
        "from pydrive.drive import GoogleDrive\n",
        "from google.colab import auth\n",
        "from oauth2client.client import GoogleCredentials\n",
        " \n",
        "# 1. Authenticate and create the PyDrive client.\n",
        "auth.authenticate_user()\n",
        "gauth = GoogleAuth()\n",
        "gauth.credentials = GoogleCredentials.get_application_default()\n",
        "drive = GoogleDrive(gauth)"
      ],
      "execution_count": null,
      "outputs": []
    },
    {
      "cell_type": "code",
      "metadata": {
        "id": "dTaIBff-UK4E",
        "colab_type": "code",
        "colab": {
          "base_uri": "https://localhost:8080/",
          "height": 318
        },
        "outputId": "bf338892-da1d-49b8-b4a3-0a46f107a738"
      },
      "source": [
        "### lists the files in the folder \n",
        "file_list = drive.ListFile({'q': \"'18sX8Dymv_AAEaY7mJxbmh_LjljD8oRwK' in parents and trashed=false\"}).GetList() ## long string in the url of folder\n",
        "for file1 in file_list:\n",
        "  print('title: %s, id: %s' % (file1['title'], file1['id']))"
      ],
      "execution_count": null,
      "outputs": [
        {
          "output_type": "stream",
          "text": [
            "title: true_ans_df, id: 1iSOAZSYZErO9Fq5w1_qSalMP-x8DaVPKO1-SKz1eVOA\n",
            "title: wrong_ans_df.csv, id: 1_j6ilNKGL71BqM262Vg8KTTiu9jT6ete\n",
            "title: true_ans_df.csv, id: 1drwwnkULVoMfKRJBkj-mCyaIlbRtPli5\n",
            "title: data_VEC, id: 1re1jFEQvnyeGuryQkl_dWaNoLnLBkN8Y44cIa6LqeJg\n",
            "title: data_VEC.csv, id: 1_oB0pdMdaHbVl6YllHKDFJGukhhfK-Iz\n",
            "title: Data CLEAN, id: 1pgellPyb7ynUHU64Prm0xZwI4-sqfw3M\n",
            "title: Original Tweets, id: 1yDewPt327TxTrKCvuCIpHNyigDMaKPyv\n",
            "title: bully_victim1.csv, id: 1ngNQ_sLWIAnN7scAxJl4-y8QZB_soeTQ\n",
            "title: bully_victim.csv, id: 1qud97IBO3rkLkmDJTi-Y8U--waH7v6tb\n",
            "title: data_categorical_multi.csv, id: 10qfXUcLUW4GPBM1ra3_cRBpnW9ltQEh-\n",
            "title: data_categorical_binary.csv, id: 1Mn0cT-De4mq-9gJ7J2s201jvZQ1bWNGK\n",
            "title: glove.6B.100d.txt, id: 1-FOMH_1xZcjtYo1uW3_2BwozqHFC-dZb\n",
            "title: glove.6B.zip, id: 1tuFKpS8F1lhnaemAYi_w498Vli6WGuKP\n",
            "title: data_tweet_clean_500_stop.csv, id: 1bUddQJ0LejpEROhpWmMtYYSoXvR2q4pc\n",
            "title: data_Tweet_clean.csv, id: 1FNa4-dHR6aEeunRIwMnaBBacSlCHZOsW\n",
            "title: Medication_1, id: 1yvcgD5F6on7s9gwS56GWajZNPtvYg_4H\n",
            "title: Twitter_Neg_Pos, id: 1-SvbE_55FqDfqtp588p3HvcojmREUOWc\n"
          ],
          "name": "stdout"
        }
      ]
    },
    {
      "cell_type": "code",
      "metadata": {
        "id": "eKVxYL3VUP3-",
        "colab_type": "code",
        "colab": {
          "base_uri": "https://localhost:8080/",
          "height": 1000
        },
        "outputId": "1243b9ec-2a70-49c1-c1b8-65cbaccf811b"
      },
      "source": [
        "\n",
        "### download the file \n",
        "file_downloaded = drive.CreateFile({'id': '1ngNQ_sLWIAnN7scAxJl4-y8QZB_soeTQ'})\n",
        "file_downloaded.GetContentFile('bully_victim1.csv')\n",
        "\n",
        "df_data = pd.read_csv('bully_victim1.csv', dtype = object)\n",
        "df_data.head(100)"
      ],
      "execution_count": null,
      "outputs": [
        {
          "output_type": "execute_result",
          "data": {
            "text/html": [
              "<div>\n",
              "<style scoped>\n",
              "    .dataframe tbody tr th:only-of-type {\n",
              "        vertical-align: middle;\n",
              "    }\n",
              "\n",
              "    .dataframe tbody tr th {\n",
              "        vertical-align: top;\n",
              "    }\n",
              "\n",
              "    .dataframe thead th {\n",
              "        text-align: right;\n",
              "    }\n",
              "</style>\n",
              "<table border=\"1\" class=\"dataframe\">\n",
              "  <thead>\n",
              "    <tr style=\"text-align: right;\">\n",
              "      <th></th>\n",
              "      <th>Unnamed: 0</th>\n",
              "      <th>Tweet ID</th>\n",
              "      <th>Bully/Victims</th>\n",
              "    </tr>\n",
              "  </thead>\n",
              "  <tbody>\n",
              "    <tr>\n",
              "      <th>0</th>\n",
              "      <td>0</td>\n",
              "      <td>103925126613045250</td>\n",
              "      <td>3</td>\n",
              "    </tr>\n",
              "    <tr>\n",
              "      <th>1</th>\n",
              "      <td>1</td>\n",
              "      <td>108340745324335104</td>\n",
              "      <td>2</td>\n",
              "    </tr>\n",
              "    <tr>\n",
              "      <th>2</th>\n",
              "      <td>2</td>\n",
              "      <td>100335301150507008</td>\n",
              "      <td>2</td>\n",
              "    </tr>\n",
              "    <tr>\n",
              "      <th>3</th>\n",
              "      <td>3</td>\n",
              "      <td>108042149437779970</td>\n",
              "      <td>3</td>\n",
              "    </tr>\n",
              "    <tr>\n",
              "      <th>4</th>\n",
              "      <td>4</td>\n",
              "      <td>102433486769627136</td>\n",
              "      <td>3</td>\n",
              "    </tr>\n",
              "    <tr>\n",
              "      <th>5</th>\n",
              "      <td>5</td>\n",
              "      <td>103257266811187200</td>\n",
              "      <td>3</td>\n",
              "    </tr>\n",
              "    <tr>\n",
              "      <th>6</th>\n",
              "      <td>6</td>\n",
              "      <td>104181309462683649</td>\n",
              "      <td>3</td>\n",
              "    </tr>\n",
              "    <tr>\n",
              "      <th>7</th>\n",
              "      <td>7</td>\n",
              "      <td>101776234794590208</td>\n",
              "      <td>2</td>\n",
              "    </tr>\n",
              "    <tr>\n",
              "      <th>8</th>\n",
              "      <td>8</td>\n",
              "      <td>101384670347931648</td>\n",
              "      <td>3</td>\n",
              "    </tr>\n",
              "    <tr>\n",
              "      <th>9</th>\n",
              "      <td>9</td>\n",
              "      <td>103298006077538305</td>\n",
              "      <td>3</td>\n",
              "    </tr>\n",
              "    <tr>\n",
              "      <th>10</th>\n",
              "      <td>10</td>\n",
              "      <td>107762666738683904</td>\n",
              "      <td>3</td>\n",
              "    </tr>\n",
              "    <tr>\n",
              "      <th>11</th>\n",
              "      <td>11</td>\n",
              "      <td>103111053377929216</td>\n",
              "      <td>3</td>\n",
              "    </tr>\n",
              "    <tr>\n",
              "      <th>12</th>\n",
              "      <td>12</td>\n",
              "      <td>106039023943942144</td>\n",
              "      <td>2</td>\n",
              "    </tr>\n",
              "    <tr>\n",
              "      <th>13</th>\n",
              "      <td>13</td>\n",
              "      <td>102200003287715841</td>\n",
              "      <td>3</td>\n",
              "    </tr>\n",
              "    <tr>\n",
              "      <th>14</th>\n",
              "      <td>14</td>\n",
              "      <td>103097898278993920</td>\n",
              "      <td>3</td>\n",
              "    </tr>\n",
              "    <tr>\n",
              "      <th>15</th>\n",
              "      <td>15</td>\n",
              "      <td>108222328235761664</td>\n",
              "      <td>3</td>\n",
              "    </tr>\n",
              "    <tr>\n",
              "      <th>16</th>\n",
              "      <td>16</td>\n",
              "      <td>104997458282676224</td>\n",
              "      <td>2</td>\n",
              "    </tr>\n",
              "    <tr>\n",
              "      <th>17</th>\n",
              "      <td>17</td>\n",
              "      <td>103512154174529536</td>\n",
              "      <td>2</td>\n",
              "    </tr>\n",
              "    <tr>\n",
              "      <th>18</th>\n",
              "      <td>18</td>\n",
              "      <td>103905926033055744</td>\n",
              "      <td>3</td>\n",
              "    </tr>\n",
              "    <tr>\n",
              "      <th>19</th>\n",
              "      <td>19</td>\n",
              "      <td>103161128187731968</td>\n",
              "      <td>3</td>\n",
              "    </tr>\n",
              "    <tr>\n",
              "      <th>20</th>\n",
              "      <td>20</td>\n",
              "      <td>108225276500131840</td>\n",
              "      <td>3</td>\n",
              "    </tr>\n",
              "    <tr>\n",
              "      <th>21</th>\n",
              "      <td>21</td>\n",
              "      <td>107777398455537665</td>\n",
              "      <td>3</td>\n",
              "    </tr>\n",
              "    <tr>\n",
              "      <th>22</th>\n",
              "      <td>22</td>\n",
              "      <td>104128646020730880</td>\n",
              "      <td>3</td>\n",
              "    </tr>\n",
              "    <tr>\n",
              "      <th>23</th>\n",
              "      <td>23</td>\n",
              "      <td>104566854982443008</td>\n",
              "      <td>2</td>\n",
              "    </tr>\n",
              "    <tr>\n",
              "      <th>24</th>\n",
              "      <td>24</td>\n",
              "      <td>102647480503644160</td>\n",
              "      <td>3</td>\n",
              "    </tr>\n",
              "    <tr>\n",
              "      <th>25</th>\n",
              "      <td>25</td>\n",
              "      <td>107224608557641728</td>\n",
              "      <td>2</td>\n",
              "    </tr>\n",
              "    <tr>\n",
              "      <th>26</th>\n",
              "      <td>26</td>\n",
              "      <td>108598306434859009</td>\n",
              "      <td>2</td>\n",
              "    </tr>\n",
              "    <tr>\n",
              "      <th>27</th>\n",
              "      <td>27</td>\n",
              "      <td>106003451959451648</td>\n",
              "      <td>2</td>\n",
              "    </tr>\n",
              "    <tr>\n",
              "      <th>28</th>\n",
              "      <td>28</td>\n",
              "      <td>101467014152982529</td>\n",
              "      <td>3</td>\n",
              "    </tr>\n",
              "    <tr>\n",
              "      <th>29</th>\n",
              "      <td>29</td>\n",
              "      <td>101484211688579072</td>\n",
              "      <td>3</td>\n",
              "    </tr>\n",
              "    <tr>\n",
              "      <th>...</th>\n",
              "      <td>...</td>\n",
              "      <td>...</td>\n",
              "      <td>...</td>\n",
              "    </tr>\n",
              "    <tr>\n",
              "      <th>70</th>\n",
              "      <td>70</td>\n",
              "      <td>100079691712565248</td>\n",
              "      <td>3</td>\n",
              "    </tr>\n",
              "    <tr>\n",
              "      <th>71</th>\n",
              "      <td>71</td>\n",
              "      <td>101658100821528576</td>\n",
              "      <td>2</td>\n",
              "    </tr>\n",
              "    <tr>\n",
              "      <th>72</th>\n",
              "      <td>72</td>\n",
              "      <td>102748968068460544</td>\n",
              "      <td>3</td>\n",
              "    </tr>\n",
              "    <tr>\n",
              "      <th>73</th>\n",
              "      <td>73</td>\n",
              "      <td>104140511320866816</td>\n",
              "      <td>3</td>\n",
              "    </tr>\n",
              "    <tr>\n",
              "      <th>74</th>\n",
              "      <td>74</td>\n",
              "      <td>108273188101820416</td>\n",
              "      <td>3</td>\n",
              "    </tr>\n",
              "    <tr>\n",
              "      <th>75</th>\n",
              "      <td>75</td>\n",
              "      <td>103076078624583681</td>\n",
              "      <td>3</td>\n",
              "    </tr>\n",
              "    <tr>\n",
              "      <th>76</th>\n",
              "      <td>76</td>\n",
              "      <td>108066593749213184</td>\n",
              "      <td>3</td>\n",
              "    </tr>\n",
              "    <tr>\n",
              "      <th>77</th>\n",
              "      <td>77</td>\n",
              "      <td>108939072503947264</td>\n",
              "      <td>3</td>\n",
              "    </tr>\n",
              "    <tr>\n",
              "      <th>78</th>\n",
              "      <td>78</td>\n",
              "      <td>103688396404301824</td>\n",
              "      <td>3</td>\n",
              "    </tr>\n",
              "    <tr>\n",
              "      <th>79</th>\n",
              "      <td>79</td>\n",
              "      <td>104926594497392641</td>\n",
              "      <td>3</td>\n",
              "    </tr>\n",
              "    <tr>\n",
              "      <th>80</th>\n",
              "      <td>80</td>\n",
              "      <td>102048062326841344</td>\n",
              "      <td>3</td>\n",
              "    </tr>\n",
              "    <tr>\n",
              "      <th>81</th>\n",
              "      <td>81</td>\n",
              "      <td>103866625115176960</td>\n",
              "      <td>2</td>\n",
              "    </tr>\n",
              "    <tr>\n",
              "      <th>82</th>\n",
              "      <td>82</td>\n",
              "      <td>106364589201035265</td>\n",
              "      <td>2</td>\n",
              "    </tr>\n",
              "    <tr>\n",
              "      <th>83</th>\n",
              "      <td>83</td>\n",
              "      <td>104282328095928320</td>\n",
              "      <td>3</td>\n",
              "    </tr>\n",
              "    <tr>\n",
              "      <th>84</th>\n",
              "      <td>84</td>\n",
              "      <td>108678029466796032</td>\n",
              "      <td>3</td>\n",
              "    </tr>\n",
              "    <tr>\n",
              "      <th>85</th>\n",
              "      <td>85</td>\n",
              "      <td>102670977204363264</td>\n",
              "      <td>3</td>\n",
              "    </tr>\n",
              "    <tr>\n",
              "      <th>86</th>\n",
              "      <td>86</td>\n",
              "      <td>107891753960484864</td>\n",
              "      <td>3</td>\n",
              "    </tr>\n",
              "    <tr>\n",
              "      <th>87</th>\n",
              "      <td>87</td>\n",
              "      <td>105378285676019712</td>\n",
              "      <td>2</td>\n",
              "    </tr>\n",
              "    <tr>\n",
              "      <th>88</th>\n",
              "      <td>88</td>\n",
              "      <td>108159040068141056</td>\n",
              "      <td>3</td>\n",
              "    </tr>\n",
              "    <tr>\n",
              "      <th>89</th>\n",
              "      <td>89</td>\n",
              "      <td>102907536474259458</td>\n",
              "      <td>2</td>\n",
              "    </tr>\n",
              "    <tr>\n",
              "      <th>90</th>\n",
              "      <td>90</td>\n",
              "      <td>106548530063212544</td>\n",
              "      <td>3</td>\n",
              "    </tr>\n",
              "    <tr>\n",
              "      <th>91</th>\n",
              "      <td>91</td>\n",
              "      <td>104958837458612224</td>\n",
              "      <td>3</td>\n",
              "    </tr>\n",
              "    <tr>\n",
              "      <th>92</th>\n",
              "      <td>92</td>\n",
              "      <td>107251479236194305</td>\n",
              "      <td>2</td>\n",
              "    </tr>\n",
              "    <tr>\n",
              "      <th>93</th>\n",
              "      <td>93</td>\n",
              "      <td>101767351455842304</td>\n",
              "      <td>3</td>\n",
              "    </tr>\n",
              "    <tr>\n",
              "      <th>94</th>\n",
              "      <td>94</td>\n",
              "      <td>105014949075632128</td>\n",
              "      <td>2</td>\n",
              "    </tr>\n",
              "    <tr>\n",
              "      <th>95</th>\n",
              "      <td>95</td>\n",
              "      <td>103435866831204352</td>\n",
              "      <td>3</td>\n",
              "    </tr>\n",
              "    <tr>\n",
              "      <th>96</th>\n",
              "      <td>96</td>\n",
              "      <td>100140659188563968</td>\n",
              "      <td>3</td>\n",
              "    </tr>\n",
              "    <tr>\n",
              "      <th>97</th>\n",
              "      <td>97</td>\n",
              "      <td>107200820474417152</td>\n",
              "      <td>3</td>\n",
              "    </tr>\n",
              "    <tr>\n",
              "      <th>98</th>\n",
              "      <td>98</td>\n",
              "      <td>105460326794924032</td>\n",
              "      <td>2</td>\n",
              "    </tr>\n",
              "    <tr>\n",
              "      <th>99</th>\n",
              "      <td>99</td>\n",
              "      <td>106591741322342400</td>\n",
              "      <td>3</td>\n",
              "    </tr>\n",
              "  </tbody>\n",
              "</table>\n",
              "<p>100 rows × 3 columns</p>\n",
              "</div>"
            ],
            "text/plain": [
              "   Unnamed: 0            Tweet ID Bully/Victims\n",
              "0           0  103925126613045250             3\n",
              "1           1  108340745324335104             2\n",
              "2           2  100335301150507008             2\n",
              "3           3  108042149437779970             3\n",
              "4           4  102433486769627136             3\n",
              "5           5  103257266811187200             3\n",
              "6           6  104181309462683649             3\n",
              "7           7  101776234794590208             2\n",
              "8           8  101384670347931648             3\n",
              "9           9  103298006077538305             3\n",
              "10         10  107762666738683904             3\n",
              "11         11  103111053377929216             3\n",
              "12         12  106039023943942144             2\n",
              "13         13  102200003287715841             3\n",
              "14         14  103097898278993920             3\n",
              "15         15  108222328235761664             3\n",
              "16         16  104997458282676224             2\n",
              "17         17  103512154174529536             2\n",
              "18         18  103905926033055744             3\n",
              "19         19  103161128187731968             3\n",
              "20         20  108225276500131840             3\n",
              "21         21  107777398455537665             3\n",
              "22         22  104128646020730880             3\n",
              "23         23  104566854982443008             2\n",
              "24         24  102647480503644160             3\n",
              "25         25  107224608557641728             2\n",
              "26         26  108598306434859009             2\n",
              "27         27  106003451959451648             2\n",
              "28         28  101467014152982529             3\n",
              "29         29  101484211688579072             3\n",
              "..        ...                 ...           ...\n",
              "70         70  100079691712565248             3\n",
              "71         71  101658100821528576             2\n",
              "72         72  102748968068460544             3\n",
              "73         73  104140511320866816             3\n",
              "74         74  108273188101820416             3\n",
              "75         75  103076078624583681             3\n",
              "76         76  108066593749213184             3\n",
              "77         77  108939072503947264             3\n",
              "78         78  103688396404301824             3\n",
              "79         79  104926594497392641             3\n",
              "80         80  102048062326841344             3\n",
              "81         81  103866625115176960             2\n",
              "82         82  106364589201035265             2\n",
              "83         83  104282328095928320             3\n",
              "84         84  108678029466796032             3\n",
              "85         85  102670977204363264             3\n",
              "86         86  107891753960484864             3\n",
              "87         87  105378285676019712             2\n",
              "88         88  108159040068141056             3\n",
              "89         89  102907536474259458             2\n",
              "90         90  106548530063212544             3\n",
              "91         91  104958837458612224             3\n",
              "92         92  107251479236194305             2\n",
              "93         93  101767351455842304             3\n",
              "94         94  105014949075632128             2\n",
              "95         95  103435866831204352             3\n",
              "96         96  100140659188563968             3\n",
              "97         97  107200820474417152             3\n",
              "98         98  105460326794924032             2\n",
              "99         99  106591741322342400             3\n",
              "\n",
              "[100 rows x 3 columns]"
            ]
          },
          "metadata": {
            "tags": []
          },
          "execution_count": 29
        }
      ]
    },
    {
      "cell_type": "markdown",
      "metadata": {
        "id": "MRaAWlRiVCz-",
        "colab_type": "text"
      },
      "source": [
        "# Authenticating Twitter Process"
      ]
    },
    {
      "cell_type": "code",
      "metadata": {
        "id": "VatlPlcZVFyX",
        "colab_type": "code",
        "colab": {}
      },
      "source": [
        "####### Access Information #################\n",
        "\n",
        "# Parameter you need to specify\n",
        "consumer_key = '7w9qPKMQzbCNvx4cjVoaLqjjt'\n",
        "consumer_secret = 'bj8lNT1yJTkZHlIbg6n7NEBTX73oQttmbPy7nCUuEcYEuldt7O'\n",
        "access_key = '4439149653-6eK3Z25ODtI3sg7rv3NqNLAWmO6vz270Lewq1tD'\n",
        "access_secret = 'AJtrhAdfUmWjWnirvASSsp5PEjDbiNwO5XBDxeSuLypxs'\n",
        "\n",
        "inputFile = 'tweet_id'\n",
        "outputFile = 'tweet.json'\n",
        "\n",
        "#############################################"
      ],
      "execution_count": null,
      "outputs": []
    },
    {
      "cell_type": "code",
      "metadata": {
        "id": "MLOiQz4rVHDn",
        "colab_type": "code",
        "colab": {}
      },
      "source": [
        "auth = tweepy.OAuthHandler(consumer_key, consumer_secret)\n",
        "auth.set_access_token(access_key, access_secret)\n",
        "api = tweepy.API(auth_handler=auth, parser=JSONParser())"
      ],
      "execution_count": null,
      "outputs": []
    },
    {
      "cell_type": "markdown",
      "metadata": {
        "id": "6v34-3ggbQ2Z",
        "colab_type": "text"
      },
      "source": [
        "# Getting Data from Tweets and Analyzing variables "
      ]
    },
    {
      "cell_type": "code",
      "metadata": {
        "id": "IXW5vQ2cgJx3",
        "colab_type": "code",
        "colab": {}
      },
      "source": [
        "! pip install nltk"
      ],
      "execution_count": null,
      "outputs": []
    },
    {
      "cell_type": "code",
      "metadata": {
        "id": "AIFbPTuJfe6C",
        "colab_type": "code",
        "colab": {}
      },
      "source": [
        "\n",
        "text_feature = list()"
      ],
      "execution_count": null,
      "outputs": []
    },
    {
      "cell_type": "code",
      "metadata": {
        "id": "VILgdFkCbTXL",
        "colab_type": "code",
        "colab": {}
      },
      "source": [
        "indices_to_drop = list()\n",
        "print(df_data.shape)\n",
        "for i in range(0, 219):\n",
        "  try:\n",
        "    tweet = api.get_status(int(df_data['Tweet ID'][i]))\n",
        "    text = tweet['text'].encode('ascii', 'ignore')\n",
        "    text_feature.append(text)   \n",
        "  except tweepy.error.TweepError:\n",
        "    print(tweepy.error.TweepError)\n",
        "    indices_to_drop.append(i)\n",
        "    pass\n",
        "\n",
        "  if i % 50 == 0:\n",
        "    print(i)\n"
      ],
      "execution_count": null,
      "outputs": []
    },
    {
      "cell_type": "code",
      "metadata": {
        "id": "Ch6JZwqIIfWc",
        "colab_type": "code",
        "colab": {}
      },
      "source": [
        "len(indices_to_drop)"
      ],
      "execution_count": null,
      "outputs": []
    },
    {
      "cell_type": "code",
      "metadata": {
        "id": "D0o4eluAd5Om",
        "colab_type": "code",
        "colab": {}
      },
      "source": [
        "api.wait_on_rate_limit"
      ],
      "execution_count": null,
      "outputs": []
    },
    {
      "cell_type": "code",
      "metadata": {
        "id": "_h6LOuJfjQd6",
        "colab_type": "code",
        "colab": {
          "base_uri": "https://localhost:8080/",
          "height": 318
        },
        "outputId": "9af8e5bd-a5c1-4e00-9d44-5118b28c6fd8"
      },
      "source": [
        "print(df_data.head(15))\n",
        "df_data.shape[0]\n",
        "print(df_data['Bully/Victims'][9])"
      ],
      "execution_count": null,
      "outputs": [
        {
          "output_type": "stream",
          "text": [
            "   Unnamed: 0            Tweet ID Bully/Victims\n",
            "0           0  103925126613045250             3\n",
            "1           1  108340745324335104             2\n",
            "2           2  100335301150507008             2\n",
            "3           3  108042149437779970             3\n",
            "4           4  102433486769627136             3\n",
            "5           5  103257266811187200             3\n",
            "6           6  104181309462683649             3\n",
            "7           7  101776234794590208             2\n",
            "8           8  101384670347931648             3\n",
            "9           9  103298006077538305             3\n",
            "10         10  107762666738683904             3\n",
            "11         11  103111053377929216             3\n",
            "12         12  106039023943942144             2\n",
            "13         13  102200003287715841             3\n",
            "14         14  103097898278993920             3\n",
            "3\n"
          ],
          "name": "stdout"
        }
      ]
    },
    {
      "cell_type": "code",
      "metadata": {
        "id": "XncJLP5a3amA",
        "colab_type": "code",
        "colab": {
          "base_uri": "https://localhost:8080/",
          "height": 72
        },
        "outputId": "0beaae4a-6054-4e61-c2ab-7215189c1c1b"
      },
      "source": [
        "for i in range(0, 2):\n",
        "  tweet = api.get_status(int(df_data['Tweet ID'][i]))\n",
        "  print(tweet['user'])\n",
        "    #text = tweet['text'].encode('ascii', 'ignore')"
      ],
      "execution_count": null,
      "outputs": [
        {
          "output_type": "stream",
          "text": [
            "{'id': 14721679, 'id_str': '14721679', 'name': 'melia', 'screen_name': 'meliaruby', 'location': 'moominvalley', 'description': 'in a dream you saw a way to survive and you were full of joy', 'url': None, 'entities': {'description': {'urls': []}}, 'protected': False, 'followers_count': 192, 'friends_count': 275, 'listed_count': 11, 'created_at': 'Sat May 10 05:09:27 +0000 2008', 'favourites_count': 11782, 'utc_offset': None, 'time_zone': None, 'geo_enabled': True, 'verified': False, 'statuses_count': 46299, 'lang': None, 'contributors_enabled': False, 'is_translator': False, 'is_translation_enabled': False, 'profile_background_color': '69363B', 'profile_background_image_url': 'http://abs.twimg.com/images/themes/theme1/bg.png', 'profile_background_image_url_https': 'https://abs.twimg.com/images/themes/theme1/bg.png', 'profile_background_tile': True, 'profile_image_url': 'http://pbs.twimg.com/profile_images/1107332519115087878/euWrTi1l_normal.jpg', 'profile_image_url_https': 'https://pbs.twimg.com/profile_images/1107332519115087878/euWrTi1l_normal.jpg', 'profile_banner_url': 'https://pbs.twimg.com/profile_banners/14721679/1530095480', 'profile_link_color': 'BA3643', 'profile_sidebar_border_color': '9A2D38', 'profile_sidebar_fill_color': 'D9D4B5', 'profile_text_color': '666666', 'profile_use_background_image': True, 'has_extended_profile': True, 'default_profile': False, 'default_profile_image': False, 'following': False, 'follow_request_sent': False, 'notifications': False, 'translator_type': 'none'}\n",
            "{'id': 27383561, 'id_str': '27383561', 'name': 'The Enlighten Investor', 'screen_name': '_TheConnekt', 'location': 'Atlanta, GA', 'description': '', 'url': None, 'entities': {'description': {'urls': []}}, 'protected': False, 'followers_count': 486, 'friends_count': 30, 'listed_count': 4, 'created_at': 'Sun Mar 29 04:59:40 +0000 2009', 'favourites_count': 152, 'utc_offset': None, 'time_zone': None, 'geo_enabled': False, 'verified': False, 'statuses_count': 14587, 'lang': None, 'contributors_enabled': False, 'is_translator': False, 'is_translation_enabled': False, 'profile_background_color': '000000', 'profile_background_image_url': 'http://abs.twimg.com/images/themes/theme14/bg.gif', 'profile_background_image_url_https': 'https://abs.twimg.com/images/themes/theme14/bg.gif', 'profile_background_tile': True, 'profile_image_url': 'http://pbs.twimg.com/profile_images/1069390530126258176/e3tvz_d8_normal.jpg', 'profile_image_url_https': 'https://pbs.twimg.com/profile_images/1069390530126258176/e3tvz_d8_normal.jpg', 'profile_banner_url': 'https://pbs.twimg.com/profile_banners/27383561/1444162281', 'profile_link_color': '009999', 'profile_sidebar_border_color': 'FFFFFF', 'profile_sidebar_fill_color': 'EFEFEF', 'profile_text_color': 'ED2009', 'profile_use_background_image': True, 'has_extended_profile': False, 'default_profile': False, 'default_profile_image': False, 'following': False, 'follow_request_sent': False, 'notifications': False, 'translator_type': 'none'}\n"
          ],
          "name": "stdout"
        }
      ]
    },
    {
      "cell_type": "code",
      "metadata": {
        "id": "ICDrsAzauf5z",
        "colab_type": "code",
        "colab": {}
      },
      "source": [
        "import matplotlib.pyplot as plt\n",
        "import matplotlib\n",
        "%matplotlib inline\n",
        "matplotlib.rcParams.update({'font.size': 16})\n",
        "print(df_data.shape[0])"
      ],
      "execution_count": null,
      "outputs": []
    },
    {
      "cell_type": "code",
      "metadata": {
        "id": "LS-sfNT4sB92",
        "colab_type": "code",
        "colab": {
          "base_uri": "https://localhost:8080/",
          "height": 478
        },
        "outputId": "27c31a01-e948-492f-9228-d8b5329fe913"
      },
      "source": [
        "indices_to_drop = list()\n",
        "listX=[]\n",
        "listX2 = []\n",
        "listV=[]\n",
        "listB = []\n",
        "for i in range(0, df_data.shape[0]):\n",
        "  try:\n",
        "    tweet = api.get_status(int(df_data['Tweet ID'][i]))\n",
        "    if tweet['user']['friends_count'] < 2000:\n",
        "      if int(df_data['Bully/Victims'][i]) == 2:\n",
        "        listX.append(i)\n",
        "        listV.append(tweet['user']['friends_count'])\n",
        "      if int(df_data['Bully/Victims'][i]) == 3:\n",
        "        listB.append(tweet['user']['friends_count'])\n",
        "        listX2.append(i)\n",
        "    #if tweet['user']['friends_count'] < 2000 and tweet['user']['friends_count'] > 1000:\n",
        "#       listB.append(tweet['user']['friends_count'])\n",
        "#       listX2.append(i)\n",
        "    #text = tweet['text'].encode('ascii', 'ignore')\n",
        "    #text_feature.append(text)   \n",
        "  except tweepy.error.TweepError:\n",
        "    print(tweepy.error.TweepError)\n",
        "    indices_to_drop.append(i)\n",
        "    pass\n",
        "\n",
        "  if i % 50 == 0:\n",
        "    print(i)\n"
      ],
      "execution_count": null,
      "outputs": [
        {
          "output_type": "stream",
          "text": [
            "0\n",
            "<class 'tweepy.error.TweepError'>\n",
            "<class 'tweepy.error.TweepError'>\n",
            "<class 'tweepy.error.TweepError'>\n",
            "<class 'tweepy.error.TweepError'>\n",
            "<class 'tweepy.error.TweepError'>\n",
            "50\n",
            "<class 'tweepy.error.TweepError'>\n",
            "<class 'tweepy.error.TweepError'>\n",
            "<class 'tweepy.error.TweepError'>\n",
            "<class 'tweepy.error.TweepError'>\n",
            "100\n",
            "<class 'tweepy.error.TweepError'>\n",
            "<class 'tweepy.error.TweepError'>\n",
            "<class 'tweepy.error.TweepError'>\n",
            "<class 'tweepy.error.TweepError'>\n",
            "<class 'tweepy.error.TweepError'>\n",
            "<class 'tweepy.error.TweepError'>\n",
            "<class 'tweepy.error.TweepError'>\n",
            "<class 'tweepy.error.TweepError'>\n",
            "150\n",
            "<class 'tweepy.error.TweepError'>\n",
            "<class 'tweepy.error.TweepError'>\n",
            "<class 'tweepy.error.TweepError'>\n",
            "200\n",
            "<class 'tweepy.error.TweepError'>\n"
          ],
          "name": "stdout"
        }
      ]
    },
    {
      "cell_type": "code",
      "metadata": {
        "id": "IPtaT61Eu78v",
        "colab_type": "code",
        "colab": {
          "base_uri": "https://localhost:8080/",
          "height": 377
        },
        "outputId": "cf9a5b6c-9085-490d-d59f-75dda9c4004f"
      },
      "source": [
        "print(listX)\n",
        "print(sum(listV)/len(listV))  \n",
        "print(listX2)\n",
        "print(sum(listB)/len(listB))\n",
        "print(stats.ttest_ind(listV, listB))\n",
        "#listY.sort().reverse()\n",
        "#print(listY)\n",
        "plt.plot(listX,listV,'ro',listX2,listB,'bo')\n",
        "#t, t, 'r--', t, t**2, 'bs', t, t**3, 'g^'\n",
        "plt.ylabel('Friends Count')\n",
        "plt.show()"
      ],
      "execution_count": null,
      "outputs": [
        {
          "output_type": "stream",
          "text": [
            "[1, 2, 7, 12, 16, 17, 23, 25, 26, 27, 32, 38, 39, 45, 46, 47, 51, 53, 55, 62, 64, 65, 66, 68, 71, 81, 87, 89, 92, 94, 98, 100, 102, 104, 109, 110, 112, 113, 114, 117, 120, 125, 129, 131, 132, 134, 135, 136, 140, 141, 145, 147, 154, 157, 158, 173, 179, 184, 186, 190, 191, 192, 199, 203, 205, 208, 217, 218]\n",
            "562.1764705882352\n",
            "[0, 3, 4, 5, 6, 9, 10, 11, 13, 14, 15, 19, 20, 21, 22, 24, 28, 29, 30, 31, 33, 34, 35, 36, 40, 41, 42, 43, 49, 50, 52, 54, 56, 57, 58, 59, 67, 69, 70, 72, 74, 75, 77, 78, 79, 80, 83, 84, 85, 88, 91, 93, 95, 96, 97, 99, 101, 105, 108, 115, 118, 121, 122, 123, 124, 126, 127, 128, 130, 133, 137, 138, 139, 142, 143, 144, 146, 151, 152, 153, 155, 156, 159, 160, 162, 163, 164, 166, 168, 169, 171, 172, 174, 175, 176, 178, 181, 182, 183, 185, 187, 188, 189, 194, 195, 196, 197, 198, 200, 201, 202, 204, 206, 209, 210, 211, 212, 213, 214, 216]\n",
            "531.3416666666667\n",
            "Ttest_indResult(statistic=0.4406265334122523, pvalue=0.6599950639894359)\n"
          ],
          "name": "stdout"
        },
        {
          "output_type": "display_data",
          "data": {
            "image/png": "[encoded data removed]",
            "text/plain": [
              "<Figure size 432x288 with 1 Axes>"
            ]
          },
          "metadata": {
            "tags": []
          }
        }
      ]
    },
    {
      "cell_type": "code",
      "metadata": {
        "id": "KLnxGVM1vHKZ",
        "colab_type": "code",
        "colab": {
          "base_uri": "https://localhost:8080/",
          "height": 281
        },
        "outputId": "540a7dc6-033e-4a15-92ad-92bcc95bf0ad"
      },
      "source": [
        "v_avg = sum(listV)/len(listV)\n",
        "b_avg = sum(listB)/len(listB)\n",
        "\n",
        "objects = ('Victim', 'Bully')\n",
        "y_pos = np.arange(len(objects))\n",
        "f_avg = [v_avg,b_avg]\n",
        "\n",
        "plt.bar(y_pos, f_avg, align='center', alpha=0.5)\n",
        "plt.xticks(y_pos, objects)\n",
        "plt.ylabel('Average Followers')\n",
        "plt.title('The Effect of Being a Bully vs. Victim on Friends Count')\n",
        "\n",
        "plt.show()\n",
        "\n"
      ],
      "execution_count": null,
      "outputs": [
        {
          "output_type": "display_data",
          "data": {
            "image/png": "[encoded data removed]",
            "text/plain": [
              "<Figure size 432x288 with 1 Axes>"
            ]
          },
          "metadata": {
            "tags": []
          }
        }
      ]
    },
    {
      "cell_type": "code",
      "metadata": {
        "id": "47zJ-cdU3WiO",
        "colab_type": "code",
        "colab": {
          "base_uri": "https://localhost:8080/",
          "height": 34
        },
        "outputId": "d83f749b-6147-408a-d6c1-513df3943f21"
      },
      "source": [
        "listV_1 = np.array(listV)\n",
        "np.std(listV_1)"
      ],
      "execution_count": null,
      "outputs": [
        {
          "output_type": "execute_result",
          "data": {
            "text/plain": [
              "444.71600128543605"
            ]
          },
          "metadata": {
            "tags": []
          },
          "execution_count": 66
        }
      ]
    },
    {
      "cell_type": "code",
      "metadata": {
        "id": "id4s5TZs9ejx",
        "colab_type": "code",
        "colab": {
          "base_uri": "https://localhost:8080/",
          "height": 34
        },
        "outputId": "d05efdde-edd0-4f4d-cd77-9c8d8a74f069"
      },
      "source": [
        "np.std(np.array(listB))\n",
        "       "
      ],
      "execution_count": null,
      "outputs": [
        {
          "output_type": "execute_result",
          "data": {
            "text/plain": [
              "466.2519078751552"
            ]
          },
          "metadata": {
            "tags": []
          },
          "execution_count": 67
        }
      ]
    }
  ]
}